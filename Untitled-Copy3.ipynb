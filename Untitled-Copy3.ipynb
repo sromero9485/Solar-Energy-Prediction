{
 "cells": [
  {
   "cell_type": "markdown",
   "metadata": {},
   "source": [
    "# Supervised Learning Project"
   ]
  },
  {
   "cell_type": "code",
   "execution_count": 1,
   "metadata": {},
   "outputs": [],
   "source": [
    "import warnings\n",
    "warnings.simplefilter('ignore')"
   ]
  },
  {
   "cell_type": "code",
   "execution_count": 2,
   "metadata": {},
   "outputs": [],
   "source": [
    "import matplotlib.pyplot as plt \n",
    "from mpl_toolkits.mplot3d import Axes3D\n",
    "%matplotlib inline        \n",
    "\n",
    "import numpy as np\n",
    "import pandas as pd\n",
    "import zipfile\n",
    "\n",
    "from sklearn.datasets import make_circles, load_boston\n",
    "from sklearn.model_selection import train_test_split as tts\n",
    "\n",
    "from sklearn.linear_model import LinearRegression as LinReg\n",
    "from sklearn.linear_model import Lasso\n",
    "from sklearn.linear_model import Ridge\n",
    "from sklearn.linear_model import ElasticNet\n",
    "\n",
    "\n",
    "from sklearn.svm import SVR\n",
    "from sklearn.tree import ExtraTreeRegressor as ETR\n",
    "\n",
    "from sklearn.linear_model import SGDRegressor as SGDR\n",
    "from sklearn.neighbors import KNeighborsRegressor as KNNR\n",
    "from sklearn.ensemble import GradientBoostingRegressor as GBR"
   ]
  },
  {
   "cell_type": "code",
   "execution_count": 3,
   "metadata": {},
   "outputs": [
    {
     "data": {
      "text/html": [
       "<div>\n",
       "<style scoped>\n",
       "    .dataframe tbody tr th:only-of-type {\n",
       "        vertical-align: middle;\n",
       "    }\n",
       "\n",
       "    .dataframe tbody tr th {\n",
       "        vertical-align: top;\n",
       "    }\n",
       "\n",
       "    .dataframe thead th {\n",
       "        text-align: right;\n",
       "    }\n",
       "</style>\n",
       "<table border=\"1\" class=\"dataframe\">\n",
       "  <thead>\n",
       "    <tr style=\"text-align: right;\">\n",
       "      <th></th>\n",
       "      <th>UNIXTime</th>\n",
       "      <th>Data</th>\n",
       "      <th>Time</th>\n",
       "      <th>Radiation</th>\n",
       "      <th>Temperature</th>\n",
       "      <th>Pressure</th>\n",
       "      <th>Humidity</th>\n",
       "      <th>WindDirection(Degrees)</th>\n",
       "      <th>Speed</th>\n",
       "      <th>TimeSunRise</th>\n",
       "      <th>TimeSunSet</th>\n",
       "    </tr>\n",
       "  </thead>\n",
       "  <tbody>\n",
       "    <tr>\n",
       "      <th>0</th>\n",
       "      <td>1475175023</td>\n",
       "      <td>9/29/2016 12:00:00 AM</td>\n",
       "      <td>08:50:23</td>\n",
       "      <td>634.99</td>\n",
       "      <td>61</td>\n",
       "      <td>30.46</td>\n",
       "      <td>41</td>\n",
       "      <td>14.96</td>\n",
       "      <td>6.75</td>\n",
       "      <td>06:13:00</td>\n",
       "      <td>18:13:00</td>\n",
       "    </tr>\n",
       "    <tr>\n",
       "      <th>1</th>\n",
       "      <td>1481799902</td>\n",
       "      <td>12/15/2016 12:00:00 AM</td>\n",
       "      <td>01:05:02</td>\n",
       "      <td>1.27</td>\n",
       "      <td>37</td>\n",
       "      <td>30.26</td>\n",
       "      <td>70</td>\n",
       "      <td>207.43</td>\n",
       "      <td>5.62</td>\n",
       "      <td>06:50:00</td>\n",
       "      <td>17:46:00</td>\n",
       "    </tr>\n",
       "    <tr>\n",
       "      <th>2</th>\n",
       "      <td>1478339417</td>\n",
       "      <td>11/4/2016 12:00:00 AM</td>\n",
       "      <td>23:50:17</td>\n",
       "      <td>1.21</td>\n",
       "      <td>47</td>\n",
       "      <td>30.49</td>\n",
       "      <td>33</td>\n",
       "      <td>168.20</td>\n",
       "      <td>5.62</td>\n",
       "      <td>06:25:00</td>\n",
       "      <td>17:47:00</td>\n",
       "    </tr>\n",
       "    <tr>\n",
       "      <th>3</th>\n",
       "      <td>1472887208</td>\n",
       "      <td>9/2/2016 12:00:00 AM</td>\n",
       "      <td>21:20:08</td>\n",
       "      <td>1.67</td>\n",
       "      <td>54</td>\n",
       "      <td>30.46</td>\n",
       "      <td>101</td>\n",
       "      <td>152.60</td>\n",
       "      <td>3.37</td>\n",
       "      <td>06:07:00</td>\n",
       "      <td>18:37:00</td>\n",
       "    </tr>\n",
       "    <tr>\n",
       "      <th>4</th>\n",
       "      <td>1478724901</td>\n",
       "      <td>11/9/2016 12:00:00 AM</td>\n",
       "      <td>10:55:01</td>\n",
       "      <td>839.78</td>\n",
       "      <td>62</td>\n",
       "      <td>30.47</td>\n",
       "      <td>36</td>\n",
       "      <td>291.95</td>\n",
       "      <td>7.87</td>\n",
       "      <td>06:28:00</td>\n",
       "      <td>17:45:00</td>\n",
       "    </tr>\n",
       "  </tbody>\n",
       "</table>\n",
       "</div>"
      ],
      "text/plain": [
       "     UNIXTime                    Data      Time  Radiation  Temperature  \\\n",
       "0  1475175023   9/29/2016 12:00:00 AM  08:50:23     634.99           61   \n",
       "1  1481799902  12/15/2016 12:00:00 AM  01:05:02       1.27           37   \n",
       "2  1478339417   11/4/2016 12:00:00 AM  23:50:17       1.21           47   \n",
       "3  1472887208    9/2/2016 12:00:00 AM  21:20:08       1.67           54   \n",
       "4  1478724901   11/9/2016 12:00:00 AM  10:55:01     839.78           62   \n",
       "\n",
       "   Pressure  Humidity  WindDirection(Degrees)  Speed TimeSunRise TimeSunSet  \n",
       "0     30.46        41                   14.96   6.75    06:13:00   18:13:00  \n",
       "1     30.26        70                  207.43   5.62    06:50:00   17:46:00  \n",
       "2     30.49        33                  168.20   5.62    06:25:00   17:47:00  \n",
       "3     30.46       101                  152.60   3.37    06:07:00   18:37:00  \n",
       "4     30.47        36                  291.95   7.87    06:28:00   17:45:00  "
      ]
     },
     "execution_count": 3,
     "metadata": {},
     "output_type": "execute_result"
    }
   ],
   "source": [
    "#Importando datos\n",
    "zf = zipfile.ZipFile('../solar-energy-prediction-datamex0320.zip')\n",
    "traindf = pd.read_csv(zf.open('solar_train.csv'))\n",
    "traindf.head()"
   ]
  },
  {
   "cell_type": "code",
   "execution_count": 4,
   "metadata": {},
   "outputs": [],
   "source": [
    "testdf = pd.read_csv(zf.open('solar_test.csv'))\n"
   ]
  },
  {
   "cell_type": "code",
   "execution_count": 5,
   "metadata": {},
   "outputs": [],
   "source": [
    "test = pd.read_csv(zf.open('solar_test.csv'))"
   ]
  },
  {
   "cell_type": "code",
   "execution_count": 6,
   "metadata": {},
   "outputs": [],
   "source": [
    "traindf[\"Data\"] = pd.to_datetime(traindf[\"Data\"]) "
   ]
  },
  {
   "cell_type": "code",
   "execution_count": 7,
   "metadata": {},
   "outputs": [
    {
     "name": "stdout",
     "output_type": "stream",
     "text": [
      "<class 'pandas.core.frame.DataFrame'>\n",
      "RangeIndex: 24514 entries, 0 to 24513\n",
      "Data columns (total 11 columns):\n",
      " #   Column                  Non-Null Count  Dtype         \n",
      "---  ------                  --------------  -----         \n",
      " 0   UNIXTime                24514 non-null  int64         \n",
      " 1   Data                    24514 non-null  datetime64[ns]\n",
      " 2   Time                    24514 non-null  object        \n",
      " 3   Radiation               24514 non-null  float64       \n",
      " 4   Temperature             24514 non-null  int64         \n",
      " 5   Pressure                24514 non-null  float64       \n",
      " 6   Humidity                24514 non-null  int64         \n",
      " 7   WindDirection(Degrees)  24514 non-null  float64       \n",
      " 8   Speed                   24514 non-null  float64       \n",
      " 9   TimeSunRise             24514 non-null  object        \n",
      " 10  TimeSunSet              24514 non-null  object        \n",
      "dtypes: datetime64[ns](1), float64(4), int64(3), object(3)\n",
      "memory usage: 2.1+ MB\n"
     ]
    }
   ],
   "source": [
    "traindf.info()"
   ]
  },
  {
   "cell_type": "code",
   "execution_count": 8,
   "metadata": {},
   "outputs": [],
   "source": [
    "traindf[\"TimeSunRise\"] = pd.to_datetime(traindf[\"TimeSunRise\"]) "
   ]
  },
  {
   "cell_type": "code",
   "execution_count": 9,
   "metadata": {},
   "outputs": [],
   "source": [
    "traindf['H1'] = traindf.TimeSunRise.dt.hour"
   ]
  },
  {
   "cell_type": "code",
   "execution_count": 10,
   "metadata": {},
   "outputs": [],
   "source": [
    "traindf[\"TimeSunSet\"] = pd.to_datetime(traindf[\"TimeSunSet\"]) "
   ]
  },
  {
   "cell_type": "code",
   "execution_count": 11,
   "metadata": {},
   "outputs": [],
   "source": [
    "traindf['H2'] = traindf.TimeSunSet.dt.hour"
   ]
  },
  {
   "cell_type": "code",
   "execution_count": 12,
   "metadata": {},
   "outputs": [],
   "source": [
    "traindf = traindf.drop(columns= ['Data'])\n",
    "traindf = traindf.drop(columns= ['TimeSunRise'])\n",
    "traindf = traindf.drop(columns= ['TimeSunSet'])\n",
    "traindf = traindf.drop(columns= ['Time'])\n"
   ]
  },
  {
   "cell_type": "code",
   "execution_count": 13,
   "metadata": {
    "scrolled": false
   },
   "outputs": [
    {
     "data": {
      "text/html": [
       "<div>\n",
       "<style scoped>\n",
       "    .dataframe tbody tr th:only-of-type {\n",
       "        vertical-align: middle;\n",
       "    }\n",
       "\n",
       "    .dataframe tbody tr th {\n",
       "        vertical-align: top;\n",
       "    }\n",
       "\n",
       "    .dataframe thead th {\n",
       "        text-align: right;\n",
       "    }\n",
       "</style>\n",
       "<table border=\"1\" class=\"dataframe\">\n",
       "  <thead>\n",
       "    <tr style=\"text-align: right;\">\n",
       "      <th></th>\n",
       "      <th>UNIXTime</th>\n",
       "      <th>Radiation</th>\n",
       "      <th>Temperature</th>\n",
       "      <th>Pressure</th>\n",
       "      <th>Humidity</th>\n",
       "      <th>WindDirection(Degrees)</th>\n",
       "      <th>Speed</th>\n",
       "      <th>H1</th>\n",
       "      <th>H2</th>\n",
       "    </tr>\n",
       "  </thead>\n",
       "  <tbody>\n",
       "    <tr>\n",
       "      <th>0</th>\n",
       "      <td>1475175023</td>\n",
       "      <td>634.99</td>\n",
       "      <td>61</td>\n",
       "      <td>30.46</td>\n",
       "      <td>41</td>\n",
       "      <td>14.96</td>\n",
       "      <td>6.75</td>\n",
       "      <td>6</td>\n",
       "      <td>18</td>\n",
       "    </tr>\n",
       "    <tr>\n",
       "      <th>1</th>\n",
       "      <td>1481799902</td>\n",
       "      <td>1.27</td>\n",
       "      <td>37</td>\n",
       "      <td>30.26</td>\n",
       "      <td>70</td>\n",
       "      <td>207.43</td>\n",
       "      <td>5.62</td>\n",
       "      <td>6</td>\n",
       "      <td>17</td>\n",
       "    </tr>\n",
       "    <tr>\n",
       "      <th>2</th>\n",
       "      <td>1478339417</td>\n",
       "      <td>1.21</td>\n",
       "      <td>47</td>\n",
       "      <td>30.49</td>\n",
       "      <td>33</td>\n",
       "      <td>168.20</td>\n",
       "      <td>5.62</td>\n",
       "      <td>6</td>\n",
       "      <td>17</td>\n",
       "    </tr>\n",
       "    <tr>\n",
       "      <th>3</th>\n",
       "      <td>1472887208</td>\n",
       "      <td>1.67</td>\n",
       "      <td>54</td>\n",
       "      <td>30.46</td>\n",
       "      <td>101</td>\n",
       "      <td>152.60</td>\n",
       "      <td>3.37</td>\n",
       "      <td>6</td>\n",
       "      <td>18</td>\n",
       "    </tr>\n",
       "    <tr>\n",
       "      <th>4</th>\n",
       "      <td>1478724901</td>\n",
       "      <td>839.78</td>\n",
       "      <td>62</td>\n",
       "      <td>30.47</td>\n",
       "      <td>36</td>\n",
       "      <td>291.95</td>\n",
       "      <td>7.87</td>\n",
       "      <td>6</td>\n",
       "      <td>17</td>\n",
       "    </tr>\n",
       "  </tbody>\n",
       "</table>\n",
       "</div>"
      ],
      "text/plain": [
       "     UNIXTime  Radiation  Temperature  Pressure  Humidity  \\\n",
       "0  1475175023     634.99           61     30.46        41   \n",
       "1  1481799902       1.27           37     30.26        70   \n",
       "2  1478339417       1.21           47     30.49        33   \n",
       "3  1472887208       1.67           54     30.46       101   \n",
       "4  1478724901     839.78           62     30.47        36   \n",
       "\n",
       "   WindDirection(Degrees)  Speed  H1  H2  \n",
       "0                   14.96   6.75   6  18  \n",
       "1                  207.43   5.62   6  17  \n",
       "2                  168.20   5.62   6  17  \n",
       "3                  152.60   3.37   6  18  \n",
       "4                  291.95   7.87   6  17  "
      ]
     },
     "execution_count": 13,
     "metadata": {},
     "output_type": "execute_result"
    }
   ],
   "source": [
    "traindf.head()"
   ]
  },
  {
   "cell_type": "code",
   "execution_count": 14,
   "metadata": {},
   "outputs": [
    {
     "name": "stdout",
     "output_type": "stream",
     "text": [
      "<class 'pandas.core.frame.DataFrame'>\n",
      "RangeIndex: 24514 entries, 0 to 24513\n",
      "Data columns (total 9 columns):\n",
      " #   Column                  Non-Null Count  Dtype  \n",
      "---  ------                  --------------  -----  \n",
      " 0   UNIXTime                24514 non-null  int64  \n",
      " 1   Radiation               24514 non-null  float64\n",
      " 2   Temperature             24514 non-null  int64  \n",
      " 3   Pressure                24514 non-null  float64\n",
      " 4   Humidity                24514 non-null  int64  \n",
      " 5   WindDirection(Degrees)  24514 non-null  float64\n",
      " 6   Speed                   24514 non-null  float64\n",
      " 7   H1                      24514 non-null  int64  \n",
      " 8   H2                      24514 non-null  int64  \n",
      "dtypes: float64(4), int64(5)\n",
      "memory usage: 1.7 MB\n"
     ]
    }
   ],
   "source": [
    "traindf.info()"
   ]
  },
  {
   "cell_type": "code",
   "execution_count": 15,
   "metadata": {},
   "outputs": [],
   "source": [
    "traindf['Sun_Hours'] = traindf['H2'] - traindf['H1'] "
   ]
  },
  {
   "cell_type": "code",
   "execution_count": 16,
   "metadata": {},
   "outputs": [],
   "source": [
    "traindf = traindf.drop(columns= ['H2'])\n",
    "traindf = traindf.drop(columns= ['H1'])"
   ]
  },
  {
   "cell_type": "code",
   "execution_count": 17,
   "metadata": {},
   "outputs": [],
   "source": [
    "traindf[\"UNIXTime\"] = traindf[\"UNIXTime\"].astype(float)\n",
    "traindf[\"Temperature\"] = traindf[\"Temperature\"].astype(float)\n",
    "traindf[\"Humidity\"] = traindf[\"Humidity\"].astype(float)\n",
    "traindf[\"Sun_Hours\"] = traindf[\"Sun_Hours\"].astype(float)\n",
    "\n"
   ]
  },
  {
   "cell_type": "code",
   "execution_count": 18,
   "metadata": {},
   "outputs": [
    {
     "name": "stdout",
     "output_type": "stream",
     "text": [
      "<class 'pandas.core.frame.DataFrame'>\n",
      "RangeIndex: 24514 entries, 0 to 24513\n",
      "Data columns (total 8 columns):\n",
      " #   Column                  Non-Null Count  Dtype  \n",
      "---  ------                  --------------  -----  \n",
      " 0   UNIXTime                24514 non-null  float64\n",
      " 1   Radiation               24514 non-null  float64\n",
      " 2   Temperature             24514 non-null  float64\n",
      " 3   Pressure                24514 non-null  float64\n",
      " 4   Humidity                24514 non-null  float64\n",
      " 5   WindDirection(Degrees)  24514 non-null  float64\n",
      " 6   Speed                   24514 non-null  float64\n",
      " 7   Sun_Hours               24514 non-null  float64\n",
      "dtypes: float64(8)\n",
      "memory usage: 1.5 MB\n"
     ]
    }
   ],
   "source": [
    "traindf.info()"
   ]
  },
  {
   "cell_type": "code",
   "execution_count": 19,
   "metadata": {
    "scrolled": true
   },
   "outputs": [
    {
     "data": {
      "text/html": [
       "<div>\n",
       "<style scoped>\n",
       "    .dataframe tbody tr th:only-of-type {\n",
       "        vertical-align: middle;\n",
       "    }\n",
       "\n",
       "    .dataframe tbody tr th {\n",
       "        vertical-align: top;\n",
       "    }\n",
       "\n",
       "    .dataframe thead th {\n",
       "        text-align: right;\n",
       "    }\n",
       "</style>\n",
       "<table border=\"1\" class=\"dataframe\">\n",
       "  <thead>\n",
       "    <tr style=\"text-align: right;\">\n",
       "      <th></th>\n",
       "      <th>UNIXTime</th>\n",
       "      <th>Radiation</th>\n",
       "      <th>Temperature</th>\n",
       "      <th>Pressure</th>\n",
       "      <th>Humidity</th>\n",
       "      <th>WindDirection(Degrees)</th>\n",
       "      <th>Speed</th>\n",
       "      <th>Sun_Hours</th>\n",
       "    </tr>\n",
       "  </thead>\n",
       "  <tbody>\n",
       "    <tr>\n",
       "      <th>UNIXTime</th>\n",
       "      <td>1.000000</td>\n",
       "      <td>-0.081910</td>\n",
       "      <td>-0.369919</td>\n",
       "      <td>-0.331841</td>\n",
       "      <td>-0.061548</td>\n",
       "      <td>0.156535</td>\n",
       "      <td>0.173960</td>\n",
       "      <td>-0.820021</td>\n",
       "    </tr>\n",
       "    <tr>\n",
       "      <th>Radiation</th>\n",
       "      <td>-0.081910</td>\n",
       "      <td>1.000000</td>\n",
       "      <td>0.736029</td>\n",
       "      <td>0.116763</td>\n",
       "      <td>-0.226432</td>\n",
       "      <td>-0.238388</td>\n",
       "      <td>0.074580</td>\n",
       "      <td>0.052021</td>\n",
       "    </tr>\n",
       "    <tr>\n",
       "      <th>Temperature</th>\n",
       "      <td>-0.369919</td>\n",
       "      <td>0.736029</td>\n",
       "      <td>1.000000</td>\n",
       "      <td>0.310439</td>\n",
       "      <td>-0.281192</td>\n",
       "      <td>-0.270070</td>\n",
       "      <td>-0.032578</td>\n",
       "      <td>0.305401</td>\n",
       "    </tr>\n",
       "    <tr>\n",
       "      <th>Pressure</th>\n",
       "      <td>-0.331841</td>\n",
       "      <td>0.116763</td>\n",
       "      <td>0.310439</td>\n",
       "      <td>1.000000</td>\n",
       "      <td>-0.222480</td>\n",
       "      <td>-0.229222</td>\n",
       "      <td>-0.082508</td>\n",
       "      <td>0.153105</td>\n",
       "    </tr>\n",
       "    <tr>\n",
       "      <th>Humidity</th>\n",
       "      <td>-0.061548</td>\n",
       "      <td>-0.226432</td>\n",
       "      <td>-0.281192</td>\n",
       "      <td>-0.222480</td>\n",
       "      <td>1.000000</td>\n",
       "      <td>0.001631</td>\n",
       "      <td>-0.211095</td>\n",
       "      <td>0.145714</td>\n",
       "    </tr>\n",
       "    <tr>\n",
       "      <th>WindDirection(Degrees)</th>\n",
       "      <td>0.156535</td>\n",
       "      <td>-0.238388</td>\n",
       "      <td>-0.270070</td>\n",
       "      <td>-0.229222</td>\n",
       "      <td>0.001631</td>\n",
       "      <td>1.000000</td>\n",
       "      <td>0.071282</td>\n",
       "      <td>-0.084521</td>\n",
       "    </tr>\n",
       "    <tr>\n",
       "      <th>Speed</th>\n",
       "      <td>0.173960</td>\n",
       "      <td>0.074580</td>\n",
       "      <td>-0.032578</td>\n",
       "      <td>-0.082508</td>\n",
       "      <td>-0.211095</td>\n",
       "      <td>0.071282</td>\n",
       "      <td>1.000000</td>\n",
       "      <td>-0.159470</td>\n",
       "    </tr>\n",
       "    <tr>\n",
       "      <th>Sun_Hours</th>\n",
       "      <td>-0.820021</td>\n",
       "      <td>0.052021</td>\n",
       "      <td>0.305401</td>\n",
       "      <td>0.153105</td>\n",
       "      <td>0.145714</td>\n",
       "      <td>-0.084521</td>\n",
       "      <td>-0.159470</td>\n",
       "      <td>1.000000</td>\n",
       "    </tr>\n",
       "  </tbody>\n",
       "</table>\n",
       "</div>"
      ],
      "text/plain": [
       "                        UNIXTime  Radiation  Temperature  Pressure  Humidity  \\\n",
       "UNIXTime                1.000000  -0.081910    -0.369919 -0.331841 -0.061548   \n",
       "Radiation              -0.081910   1.000000     0.736029  0.116763 -0.226432   \n",
       "Temperature            -0.369919   0.736029     1.000000  0.310439 -0.281192   \n",
       "Pressure               -0.331841   0.116763     0.310439  1.000000 -0.222480   \n",
       "Humidity               -0.061548  -0.226432    -0.281192 -0.222480  1.000000   \n",
       "WindDirection(Degrees)  0.156535  -0.238388    -0.270070 -0.229222  0.001631   \n",
       "Speed                   0.173960   0.074580    -0.032578 -0.082508 -0.211095   \n",
       "Sun_Hours              -0.820021   0.052021     0.305401  0.153105  0.145714   \n",
       "\n",
       "                        WindDirection(Degrees)     Speed  Sun_Hours  \n",
       "UNIXTime                              0.156535  0.173960  -0.820021  \n",
       "Radiation                            -0.238388  0.074580   0.052021  \n",
       "Temperature                          -0.270070 -0.032578   0.305401  \n",
       "Pressure                             -0.229222 -0.082508   0.153105  \n",
       "Humidity                              0.001631 -0.211095   0.145714  \n",
       "WindDirection(Degrees)                1.000000  0.071282  -0.084521  \n",
       "Speed                                 0.071282  1.000000  -0.159470  \n",
       "Sun_Hours                            -0.084521 -0.159470   1.000000  "
      ]
     },
     "execution_count": 19,
     "metadata": {},
     "output_type": "execute_result"
    }
   ],
   "source": [
    "traindf.corr()"
   ]
  },
  {
   "cell_type": "code",
   "execution_count": 20,
   "metadata": {},
   "outputs": [
    {
     "data": {
      "text/plain": [
       "UNIXTime                  0\n",
       "Radiation                 0\n",
       "Temperature               0\n",
       "Pressure                  0\n",
       "Humidity                  0\n",
       "WindDirection(Degrees)    0\n",
       "Speed                     0\n",
       "Sun_Hours                 0\n",
       "dtype: int64"
      ]
     },
     "execution_count": 20,
     "metadata": {},
     "output_type": "execute_result"
    }
   ],
   "source": [
    "traindf.isnull().sum()"
   ]
  },
  {
   "cell_type": "code",
   "execution_count": 21,
   "metadata": {},
   "outputs": [],
   "source": [
    "testdf[\"TimeSunRise\"] = pd.to_datetime(testdf[\"TimeSunRise\"]) \n"
   ]
  },
  {
   "cell_type": "code",
   "execution_count": 22,
   "metadata": {},
   "outputs": [],
   "source": [
    "testdf['H1'] = testdf.TimeSunRise.dt.hour"
   ]
  },
  {
   "cell_type": "code",
   "execution_count": 23,
   "metadata": {},
   "outputs": [],
   "source": [
    "testdf[\"TimeSunSet\"] = pd.to_datetime(testdf[\"TimeSunSet\"]) \n",
    "testdf['H2'] = testdf.TimeSunSet.dt.hour"
   ]
  },
  {
   "cell_type": "code",
   "execution_count": 24,
   "metadata": {},
   "outputs": [],
   "source": [
    "testdf['Sun_Hours'] = testdf['H2'] - testdf['H1'] "
   ]
  },
  {
   "cell_type": "code",
   "execution_count": 25,
   "metadata": {},
   "outputs": [
    {
     "data": {
      "text/html": [
       "<div>\n",
       "<style scoped>\n",
       "    .dataframe tbody tr th:only-of-type {\n",
       "        vertical-align: middle;\n",
       "    }\n",
       "\n",
       "    .dataframe tbody tr th {\n",
       "        vertical-align: top;\n",
       "    }\n",
       "\n",
       "    .dataframe thead th {\n",
       "        text-align: right;\n",
       "    }\n",
       "</style>\n",
       "<table border=\"1\" class=\"dataframe\">\n",
       "  <thead>\n",
       "    <tr style=\"text-align: right;\">\n",
       "      <th></th>\n",
       "      <th>id</th>\n",
       "      <th>UNIXTime</th>\n",
       "      <th>Data</th>\n",
       "      <th>Time</th>\n",
       "      <th>Temperature</th>\n",
       "      <th>Pressure</th>\n",
       "      <th>Humidity</th>\n",
       "      <th>WindDirection(Degrees)</th>\n",
       "      <th>Speed</th>\n",
       "      <th>TimeSunRise</th>\n",
       "      <th>TimeSunSet</th>\n",
       "      <th>H1</th>\n",
       "      <th>H2</th>\n",
       "      <th>Sun_Hours</th>\n",
       "    </tr>\n",
       "  </thead>\n",
       "  <tbody>\n",
       "    <tr>\n",
       "      <th>0</th>\n",
       "      <td>0</td>\n",
       "      <td>1478720107</td>\n",
       "      <td>11/9/2016 12:00:00 AM</td>\n",
       "      <td>09:35:07</td>\n",
       "      <td>59</td>\n",
       "      <td>30.47</td>\n",
       "      <td>44</td>\n",
       "      <td>312.67</td>\n",
       "      <td>3.37</td>\n",
       "      <td>2020-05-08 06:28:00</td>\n",
       "      <td>2020-05-08 17:45:00</td>\n",
       "      <td>6</td>\n",
       "      <td>17</td>\n",
       "      <td>11</td>\n",
       "    </tr>\n",
       "    <tr>\n",
       "      <th>1</th>\n",
       "      <td>1</td>\n",
       "      <td>1474063503</td>\n",
       "      <td>9/16/2016 12:00:00 AM</td>\n",
       "      <td>12:05:03</td>\n",
       "      <td>59</td>\n",
       "      <td>30.48</td>\n",
       "      <td>83</td>\n",
       "      <td>38.01</td>\n",
       "      <td>6.75</td>\n",
       "      <td>2020-05-08 06:10:00</td>\n",
       "      <td>2020-05-08 18:25:00</td>\n",
       "      <td>6</td>\n",
       "      <td>18</td>\n",
       "      <td>12</td>\n",
       "    </tr>\n",
       "    <tr>\n",
       "      <th>2</th>\n",
       "      <td>2</td>\n",
       "      <td>1476109221</td>\n",
       "      <td>10/10/2016 12:00:00 AM</td>\n",
       "      <td>04:20:21</td>\n",
       "      <td>47</td>\n",
       "      <td>30.39</td>\n",
       "      <td>78</td>\n",
       "      <td>213.62</td>\n",
       "      <td>5.62</td>\n",
       "      <td>2020-05-08 06:16:00</td>\n",
       "      <td>2020-05-08 18:03:00</td>\n",
       "      <td>6</td>\n",
       "      <td>18</td>\n",
       "      <td>12</td>\n",
       "    </tr>\n",
       "    <tr>\n",
       "      <th>3</th>\n",
       "      <td>3</td>\n",
       "      <td>1481475056</td>\n",
       "      <td>12/11/2016 12:00:00 AM</td>\n",
       "      <td>06:50:56</td>\n",
       "      <td>45</td>\n",
       "      <td>30.40</td>\n",
       "      <td>98</td>\n",
       "      <td>176.63</td>\n",
       "      <td>4.50</td>\n",
       "      <td>2020-05-08 06:47:00</td>\n",
       "      <td>2020-05-08 17:44:00</td>\n",
       "      <td>6</td>\n",
       "      <td>17</td>\n",
       "      <td>11</td>\n",
       "    </tr>\n",
       "    <tr>\n",
       "      <th>4</th>\n",
       "      <td>4</td>\n",
       "      <td>1477493117</td>\n",
       "      <td>10/26/2016 12:00:00 AM</td>\n",
       "      <td>04:45:17</td>\n",
       "      <td>45</td>\n",
       "      <td>30.40</td>\n",
       "      <td>34</td>\n",
       "      <td>175.89</td>\n",
       "      <td>6.75</td>\n",
       "      <td>2020-05-08 06:21:00</td>\n",
       "      <td>2020-05-08 17:52:00</td>\n",
       "      <td>6</td>\n",
       "      <td>17</td>\n",
       "      <td>11</td>\n",
       "    </tr>\n",
       "  </tbody>\n",
       "</table>\n",
       "</div>"
      ],
      "text/plain": [
       "   id    UNIXTime                    Data      Time  Temperature  Pressure  \\\n",
       "0   0  1478720107   11/9/2016 12:00:00 AM  09:35:07           59     30.47   \n",
       "1   1  1474063503   9/16/2016 12:00:00 AM  12:05:03           59     30.48   \n",
       "2   2  1476109221  10/10/2016 12:00:00 AM  04:20:21           47     30.39   \n",
       "3   3  1481475056  12/11/2016 12:00:00 AM  06:50:56           45     30.40   \n",
       "4   4  1477493117  10/26/2016 12:00:00 AM  04:45:17           45     30.40   \n",
       "\n",
       "   Humidity  WindDirection(Degrees)  Speed         TimeSunRise  \\\n",
       "0        44                  312.67   3.37 2020-05-08 06:28:00   \n",
       "1        83                   38.01   6.75 2020-05-08 06:10:00   \n",
       "2        78                  213.62   5.62 2020-05-08 06:16:00   \n",
       "3        98                  176.63   4.50 2020-05-08 06:47:00   \n",
       "4        34                  175.89   6.75 2020-05-08 06:21:00   \n",
       "\n",
       "           TimeSunSet  H1  H2  Sun_Hours  \n",
       "0 2020-05-08 17:45:00   6  17         11  \n",
       "1 2020-05-08 18:25:00   6  18         12  \n",
       "2 2020-05-08 18:03:00   6  18         12  \n",
       "3 2020-05-08 17:44:00   6  17         11  \n",
       "4 2020-05-08 17:52:00   6  17         11  "
      ]
     },
     "execution_count": 25,
     "metadata": {},
     "output_type": "execute_result"
    }
   ],
   "source": [
    "testdf.head()"
   ]
  },
  {
   "cell_type": "code",
   "execution_count": 26,
   "metadata": {},
   "outputs": [],
   "source": [
    "testdf = testdf.drop(columns= ['Data'])\n",
    "testdf = testdf.drop(columns= ['TimeSunRise'])\n",
    "testdf = testdf.drop(columns= ['TimeSunSet'])\n",
    "testdf = testdf.drop(columns= ['Time'])\n",
    "testdf = testdf.drop(columns= ['H1'])\n",
    "testdf = testdf.drop(columns= ['H2'])"
   ]
  },
  {
   "cell_type": "code",
   "execution_count": 27,
   "metadata": {},
   "outputs": [
    {
     "data": {
      "text/html": [
       "<div>\n",
       "<style scoped>\n",
       "    .dataframe tbody tr th:only-of-type {\n",
       "        vertical-align: middle;\n",
       "    }\n",
       "\n",
       "    .dataframe tbody tr th {\n",
       "        vertical-align: top;\n",
       "    }\n",
       "\n",
       "    .dataframe thead th {\n",
       "        text-align: right;\n",
       "    }\n",
       "</style>\n",
       "<table border=\"1\" class=\"dataframe\">\n",
       "  <thead>\n",
       "    <tr style=\"text-align: right;\">\n",
       "      <th></th>\n",
       "      <th>id</th>\n",
       "      <th>UNIXTime</th>\n",
       "      <th>Temperature</th>\n",
       "      <th>Pressure</th>\n",
       "      <th>Humidity</th>\n",
       "      <th>WindDirection(Degrees)</th>\n",
       "      <th>Speed</th>\n",
       "      <th>Sun_Hours</th>\n",
       "    </tr>\n",
       "  </thead>\n",
       "  <tbody>\n",
       "    <tr>\n",
       "      <th>0</th>\n",
       "      <td>0</td>\n",
       "      <td>1478720107</td>\n",
       "      <td>59</td>\n",
       "      <td>30.47</td>\n",
       "      <td>44</td>\n",
       "      <td>312.67</td>\n",
       "      <td>3.37</td>\n",
       "      <td>11</td>\n",
       "    </tr>\n",
       "    <tr>\n",
       "      <th>1</th>\n",
       "      <td>1</td>\n",
       "      <td>1474063503</td>\n",
       "      <td>59</td>\n",
       "      <td>30.48</td>\n",
       "      <td>83</td>\n",
       "      <td>38.01</td>\n",
       "      <td>6.75</td>\n",
       "      <td>12</td>\n",
       "    </tr>\n",
       "    <tr>\n",
       "      <th>2</th>\n",
       "      <td>2</td>\n",
       "      <td>1476109221</td>\n",
       "      <td>47</td>\n",
       "      <td>30.39</td>\n",
       "      <td>78</td>\n",
       "      <td>213.62</td>\n",
       "      <td>5.62</td>\n",
       "      <td>12</td>\n",
       "    </tr>\n",
       "    <tr>\n",
       "      <th>3</th>\n",
       "      <td>3</td>\n",
       "      <td>1481475056</td>\n",
       "      <td>45</td>\n",
       "      <td>30.40</td>\n",
       "      <td>98</td>\n",
       "      <td>176.63</td>\n",
       "      <td>4.50</td>\n",
       "      <td>11</td>\n",
       "    </tr>\n",
       "    <tr>\n",
       "      <th>4</th>\n",
       "      <td>4</td>\n",
       "      <td>1477493117</td>\n",
       "      <td>45</td>\n",
       "      <td>30.40</td>\n",
       "      <td>34</td>\n",
       "      <td>175.89</td>\n",
       "      <td>6.75</td>\n",
       "      <td>11</td>\n",
       "    </tr>\n",
       "  </tbody>\n",
       "</table>\n",
       "</div>"
      ],
      "text/plain": [
       "   id    UNIXTime  Temperature  Pressure  Humidity  WindDirection(Degrees)  \\\n",
       "0   0  1478720107           59     30.47        44                  312.67   \n",
       "1   1  1474063503           59     30.48        83                   38.01   \n",
       "2   2  1476109221           47     30.39        78                  213.62   \n",
       "3   3  1481475056           45     30.40        98                  176.63   \n",
       "4   4  1477493117           45     30.40        34                  175.89   \n",
       "\n",
       "   Speed  Sun_Hours  \n",
       "0   3.37         11  \n",
       "1   6.75         12  \n",
       "2   5.62         12  \n",
       "3   4.50         11  \n",
       "4   6.75         11  "
      ]
     },
     "execution_count": 27,
     "metadata": {},
     "output_type": "execute_result"
    }
   ],
   "source": [
    "testdf.head()"
   ]
  },
  {
   "cell_type": "code",
   "execution_count": 28,
   "metadata": {},
   "outputs": [
    {
     "name": "stdout",
     "output_type": "stream",
     "text": [
      "<class 'pandas.core.frame.DataFrame'>\n",
      "RangeIndex: 8172 entries, 0 to 8171\n",
      "Data columns (total 8 columns):\n",
      " #   Column                  Non-Null Count  Dtype  \n",
      "---  ------                  --------------  -----  \n",
      " 0   id                      8172 non-null   int64  \n",
      " 1   UNIXTime                8172 non-null   int64  \n",
      " 2   Temperature             8172 non-null   int64  \n",
      " 3   Pressure                8172 non-null   float64\n",
      " 4   Humidity                8172 non-null   int64  \n",
      " 5   WindDirection(Degrees)  8172 non-null   float64\n",
      " 6   Speed                   8172 non-null   float64\n",
      " 7   Sun_Hours               8172 non-null   int64  \n",
      "dtypes: float64(3), int64(5)\n",
      "memory usage: 510.9 KB\n"
     ]
    }
   ],
   "source": [
    "testdf.info()"
   ]
  },
  {
   "cell_type": "code",
   "execution_count": 29,
   "metadata": {},
   "outputs": [],
   "source": [
    "testdf = testdf.drop(columns= ['id'])"
   ]
  },
  {
   "cell_type": "code",
   "execution_count": null,
   "metadata": {},
   "outputs": [],
   "source": []
  },
  {
   "cell_type": "code",
   "execution_count": null,
   "metadata": {},
   "outputs": [],
   "source": []
  },
  {
   "cell_type": "code",
   "execution_count": null,
   "metadata": {},
   "outputs": [],
   "source": []
  },
  {
   "cell_type": "code",
   "execution_count": null,
   "metadata": {},
   "outputs": [],
   "source": []
  },
  {
   "cell_type": "code",
   "execution_count": 30,
   "metadata": {},
   "outputs": [],
   "source": [
    "X=traindf.drop('Radiation', axis=1)\n",
    "y=traindf.Radiation\n"
   ]
  },
  {
   "cell_type": "code",
   "execution_count": 31,
   "metadata": {},
   "outputs": [],
   "source": [
    "\n",
    "X_train, X_test, y_train, y_test = tts(X, y)"
   ]
  },
  {
   "cell_type": "code",
   "execution_count": 32,
   "metadata": {},
   "outputs": [
    {
     "data": {
      "text/plain": [
       "LinearRegression(copy_X=True, fit_intercept=True, n_jobs=None, normalize=True)"
      ]
     },
     "execution_count": 32,
     "metadata": {},
     "output_type": "execute_result"
    }
   ],
   "source": [
    "linreg=LinReg(normalize=True)\n",
    "\n",
    "linreg.fit(X, y)"
   ]
  },
  {
   "cell_type": "code",
   "execution_count": 33,
   "metadata": {},
   "outputs": [
    {
     "name": "stdout",
     "output_type": "stream",
     "text": [
      "0.5989143266057924 0.5989143266057924\n"
     ]
    }
   ],
   "source": [
    "train_score=linreg.score(X, y)   # R2\n",
    "test_score=linreg.score(X, y)\n",
    "\n",
    "print (train_score, test_score)"
   ]
  },
  {
   "cell_type": "code",
   "execution_count": 34,
   "metadata": {},
   "outputs": [
    {
     "name": "stdout",
     "output_type": "stream",
     "text": [
      "train R2: 0.9749846950487536 -- test R2: 0.9749846950487536\n"
     ]
    }
   ],
   "source": [
    "knnr=KNNR(n_neighbors=3)\n",
    "knnr.fit(X, y)\n",
    "\n",
    "train_score=knnr.score(X, y) #R2\n",
    "test_score=knnr.score(X, y)\n",
    "\n",
    "print ('train R2:',train_score, '-- test R2:', test_score)"
   ]
  },
  {
   "cell_type": "code",
   "execution_count": 35,
   "metadata": {},
   "outputs": [],
   "source": [
    "y_pred=knnr.predict(testdf)"
   ]
  },
  {
   "cell_type": "code",
   "execution_count": 36,
   "metadata": {},
   "outputs": [
    {
     "data": {
      "text/plain": [
       "(8172,)"
      ]
     },
     "execution_count": 36,
     "metadata": {},
     "output_type": "execute_result"
    }
   ],
   "source": [
    "y_pred.shape"
   ]
  },
  {
   "cell_type": "code",
   "execution_count": 37,
   "metadata": {},
   "outputs": [],
   "source": [
    "from sklearn.metrics import mean_squared_error as mse\n",
    "\n",
    "#mse(X_test, y_pred)"
   ]
  },
  {
   "cell_type": "code",
   "execution_count": null,
   "metadata": {},
   "outputs": [],
   "source": []
  },
  {
   "cell_type": "code",
   "execution_count": null,
   "metadata": {},
   "outputs": [],
   "source": []
  },
  {
   "cell_type": "code",
   "execution_count": 38,
   "metadata": {},
   "outputs": [
    {
     "name": "stdout",
     "output_type": "stream",
     "text": [
      "train R2: 0.7714288589052148 -- test R2: 0.7628563552205285\n"
     ]
    }
   ],
   "source": [
    "gbr=GBR()\n",
    "gbr.fit(X_train, y_train)\n",
    "\n",
    "train_score=gbr.score(X_train, y_train) #R2\n",
    "test_score=gbr.score(X_test, y_test)\n",
    "gbr=GBR()\n",
    "gbr.fit(X_train, y_train)\n",
    "\n",
    "train_score=gbr.score(X_train, y_train) #R2\n",
    "test_score=gbr.score(X_test, y_test)\n",
    "\n",
    "print ('train R2:',train_score, '-- test R2:', test_score)"
   ]
  },
  {
   "cell_type": "code",
   "execution_count": 39,
   "metadata": {},
   "outputs": [],
   "source": [
    "y_pred1=gbr.predict(testdf)"
   ]
  },
  {
   "cell_type": "code",
   "execution_count": 40,
   "metadata": {},
   "outputs": [
    {
     "data": {
      "text/plain": [
       "(8172,)"
      ]
     },
     "execution_count": 40,
     "metadata": {},
     "output_type": "execute_result"
    }
   ],
   "source": [
    "y_pred1.shape"
   ]
  },
  {
   "cell_type": "code",
   "execution_count": null,
   "metadata": {},
   "outputs": [],
   "source": []
  },
  {
   "cell_type": "code",
   "execution_count": 41,
   "metadata": {},
   "outputs": [],
   "source": [
    "Radiation = pd.DataFrame(y_pred)"
   ]
  },
  {
   "cell_type": "code",
   "execution_count": 42,
   "metadata": {},
   "outputs": [
    {
     "data": {
      "text/plain": [
       "Index(['Radiation'], dtype='object')"
      ]
     },
     "execution_count": 42,
     "metadata": {},
     "output_type": "execute_result"
    }
   ],
   "source": [
    "Radiation.rename(columns={list(Radiation)[0]:'Radiation'}, inplace=True)\n",
    "Radiation.columns"
   ]
  },
  {
   "cell_type": "code",
   "execution_count": 43,
   "metadata": {},
   "outputs": [],
   "source": [
    "df = pd.DataFrame(columns=[test[\"id\"], Radiation['Radiation']])"
   ]
  },
  {
   "cell_type": "code",
   "execution_count": 44,
   "metadata": {},
   "outputs": [],
   "source": [
    "df = df.T"
   ]
  },
  {
   "cell_type": "code",
   "execution_count": 45,
   "metadata": {},
   "outputs": [
    {
     "data": {
      "text/html": [
       "<div>\n",
       "<style scoped>\n",
       "    .dataframe tbody tr th:only-of-type {\n",
       "        vertical-align: middle;\n",
       "    }\n",
       "\n",
       "    .dataframe tbody tr th {\n",
       "        vertical-align: top;\n",
       "    }\n",
       "\n",
       "    .dataframe thead th {\n",
       "        text-align: right;\n",
       "    }\n",
       "</style>\n",
       "<table border=\"1\" class=\"dataframe\">\n",
       "  <thead>\n",
       "    <tr style=\"text-align: right;\">\n",
       "      <th></th>\n",
       "      <th>id</th>\n",
       "      <th>Radiation</th>\n",
       "    </tr>\n",
       "  </thead>\n",
       "  <tbody>\n",
       "    <tr>\n",
       "      <th>0</th>\n",
       "      <td>0</td>\n",
       "      <td>685.640000</td>\n",
       "    </tr>\n",
       "    <tr>\n",
       "      <th>1</th>\n",
       "      <td>1</td>\n",
       "      <td>1136.193333</td>\n",
       "    </tr>\n",
       "    <tr>\n",
       "      <th>2</th>\n",
       "      <td>2</td>\n",
       "      <td>1.230000</td>\n",
       "    </tr>\n",
       "    <tr>\n",
       "      <th>3</th>\n",
       "      <td>3</td>\n",
       "      <td>4.133333</td>\n",
       "    </tr>\n",
       "    <tr>\n",
       "      <th>4</th>\n",
       "      <td>4</td>\n",
       "      <td>1.216667</td>\n",
       "    </tr>\n",
       "    <tr>\n",
       "      <th>...</th>\n",
       "      <td>...</td>\n",
       "      <td>...</td>\n",
       "    </tr>\n",
       "    <tr>\n",
       "      <th>8167</th>\n",
       "      <td>8167</td>\n",
       "      <td>514.436667</td>\n",
       "    </tr>\n",
       "    <tr>\n",
       "      <th>8168</th>\n",
       "      <td>8168</td>\n",
       "      <td>1.233333</td>\n",
       "    </tr>\n",
       "    <tr>\n",
       "      <th>8169</th>\n",
       "      <td>8169</td>\n",
       "      <td>13.346667</td>\n",
       "    </tr>\n",
       "    <tr>\n",
       "      <th>8170</th>\n",
       "      <td>8170</td>\n",
       "      <td>1.223333</td>\n",
       "    </tr>\n",
       "    <tr>\n",
       "      <th>8171</th>\n",
       "      <td>8171</td>\n",
       "      <td>888.033333</td>\n",
       "    </tr>\n",
       "  </tbody>\n",
       "</table>\n",
       "<p>8172 rows × 2 columns</p>\n",
       "</div>"
      ],
      "text/plain": [
       "        id    Radiation\n",
       "0        0   685.640000\n",
       "1        1  1136.193333\n",
       "2        2     1.230000\n",
       "3        3     4.133333\n",
       "4        4     1.216667\n",
       "...    ...          ...\n",
       "8167  8167   514.436667\n",
       "8168  8168     1.233333\n",
       "8169  8169    13.346667\n",
       "8170  8170     1.223333\n",
       "8171  8171   888.033333\n",
       "\n",
       "[8172 rows x 2 columns]"
      ]
     },
     "execution_count": 45,
     "metadata": {},
     "output_type": "execute_result"
    }
   ],
   "source": [
    "df.reset_index(inplace=True) \n",
    "df \n"
   ]
  },
  {
   "cell_type": "code",
   "execution_count": 46,
   "metadata": {},
   "outputs": [],
   "source": [
    "df.to_csv('predicts3.csv', index=False)"
   ]
  },
  {
   "cell_type": "code",
   "execution_count": 47,
   "metadata": {},
   "outputs": [
    {
     "data": {
      "text/html": [
       "<div>\n",
       "<style scoped>\n",
       "    .dataframe tbody tr th:only-of-type {\n",
       "        vertical-align: middle;\n",
       "    }\n",
       "\n",
       "    .dataframe tbody tr th {\n",
       "        vertical-align: top;\n",
       "    }\n",
       "\n",
       "    .dataframe thead th {\n",
       "        text-align: right;\n",
       "    }\n",
       "</style>\n",
       "<table border=\"1\" class=\"dataframe\">\n",
       "  <thead>\n",
       "    <tr style=\"text-align: right;\">\n",
       "      <th></th>\n",
       "      <th>id</th>\n",
       "      <th>Radiation</th>\n",
       "    </tr>\n",
       "  </thead>\n",
       "  <tbody>\n",
       "    <tr>\n",
       "      <th>0</th>\n",
       "      <td>0</td>\n",
       "      <td>685.640000</td>\n",
       "    </tr>\n",
       "    <tr>\n",
       "      <th>1</th>\n",
       "      <td>1</td>\n",
       "      <td>1136.193333</td>\n",
       "    </tr>\n",
       "    <tr>\n",
       "      <th>2</th>\n",
       "      <td>2</td>\n",
       "      <td>1.230000</td>\n",
       "    </tr>\n",
       "    <tr>\n",
       "      <th>3</th>\n",
       "      <td>3</td>\n",
       "      <td>4.133333</td>\n",
       "    </tr>\n",
       "    <tr>\n",
       "      <th>4</th>\n",
       "      <td>4</td>\n",
       "      <td>1.216667</td>\n",
       "    </tr>\n",
       "    <tr>\n",
       "      <th>...</th>\n",
       "      <td>...</td>\n",
       "      <td>...</td>\n",
       "    </tr>\n",
       "    <tr>\n",
       "      <th>8167</th>\n",
       "      <td>8167</td>\n",
       "      <td>514.436667</td>\n",
       "    </tr>\n",
       "    <tr>\n",
       "      <th>8168</th>\n",
       "      <td>8168</td>\n",
       "      <td>1.233333</td>\n",
       "    </tr>\n",
       "    <tr>\n",
       "      <th>8169</th>\n",
       "      <td>8169</td>\n",
       "      <td>13.346667</td>\n",
       "    </tr>\n",
       "    <tr>\n",
       "      <th>8170</th>\n",
       "      <td>8170</td>\n",
       "      <td>1.223333</td>\n",
       "    </tr>\n",
       "    <tr>\n",
       "      <th>8171</th>\n",
       "      <td>8171</td>\n",
       "      <td>888.033333</td>\n",
       "    </tr>\n",
       "  </tbody>\n",
       "</table>\n",
       "<p>8172 rows × 2 columns</p>\n",
       "</div>"
      ],
      "text/plain": [
       "        id    Radiation\n",
       "0        0   685.640000\n",
       "1        1  1136.193333\n",
       "2        2     1.230000\n",
       "3        3     4.133333\n",
       "4        4     1.216667\n",
       "...    ...          ...\n",
       "8167  8167   514.436667\n",
       "8168  8168     1.233333\n",
       "8169  8169    13.346667\n",
       "8170  8170     1.223333\n",
       "8171  8171   888.033333\n",
       "\n",
       "[8172 rows x 2 columns]"
      ]
     },
     "execution_count": 47,
     "metadata": {},
     "output_type": "execute_result"
    }
   ],
   "source": [
    "df1= pd.read_csv('predicts3.csv')\n",
    "df1"
   ]
  },
  {
   "cell_type": "code",
   "execution_count": null,
   "metadata": {},
   "outputs": [],
   "source": []
  }
 ],
 "metadata": {
  "kernelspec": {
   "display_name": "Python 3",
   "language": "python",
   "name": "python3"
  },
  "language_info": {
   "codemirror_mode": {
    "name": "ipython",
    "version": 3
   },
   "file_extension": ".py",
   "mimetype": "text/x-python",
   "name": "python",
   "nbconvert_exporter": "python",
   "pygments_lexer": "ipython3",
   "version": "3.6.9"
  }
 },
 "nbformat": 4,
 "nbformat_minor": 4
}
